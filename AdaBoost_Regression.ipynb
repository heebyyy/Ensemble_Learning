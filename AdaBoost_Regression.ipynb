{
 "cells": [
  {
   "cell_type": "code",
   "execution_count": 1,
   "metadata": {},
   "outputs": [],
   "source": [
    "import pandas as pd\n",
    "import numpy as np\n",
    "import matplotlib.pyplot as plt"
   ]
  },
  {
   "cell_type": "code",
   "execution_count": 2,
   "metadata": {},
   "outputs": [
    {
     "data": {
      "text/html": [
       "<div>\n",
       "<style scoped>\n",
       "    .dataframe tbody tr th:only-of-type {\n",
       "        vertical-align: middle;\n",
       "    }\n",
       "\n",
       "    .dataframe tbody tr th {\n",
       "        vertical-align: top;\n",
       "    }\n",
       "\n",
       "    .dataframe thead th {\n",
       "        text-align: right;\n",
       "    }\n",
       "</style>\n",
       "<table border=\"1\" class=\"dataframe\">\n",
       "  <thead>\n",
       "    <tr style=\"text-align: right;\">\n",
       "      <th></th>\n",
       "      <th>cement</th>\n",
       "      <th>slag</th>\n",
       "      <th>flyash</th>\n",
       "      <th>water</th>\n",
       "      <th>superplasticizer</th>\n",
       "      <th>coarseaggregate</th>\n",
       "      <th>fineaggregate</th>\n",
       "      <th>age</th>\n",
       "      <th>csMPa</th>\n",
       "    </tr>\n",
       "  </thead>\n",
       "  <tbody>\n",
       "    <tr>\n",
       "      <th>0</th>\n",
       "      <td>540.0</td>\n",
       "      <td>0.0</td>\n",
       "      <td>0.0</td>\n",
       "      <td>162.0</td>\n",
       "      <td>2.5</td>\n",
       "      <td>1040.0</td>\n",
       "      <td>676.0</td>\n",
       "      <td>28</td>\n",
       "      <td>79.99</td>\n",
       "    </tr>\n",
       "    <tr>\n",
       "      <th>1</th>\n",
       "      <td>540.0</td>\n",
       "      <td>0.0</td>\n",
       "      <td>0.0</td>\n",
       "      <td>162.0</td>\n",
       "      <td>2.5</td>\n",
       "      <td>1055.0</td>\n",
       "      <td>676.0</td>\n",
       "      <td>28</td>\n",
       "      <td>61.89</td>\n",
       "    </tr>\n",
       "    <tr>\n",
       "      <th>2</th>\n",
       "      <td>332.5</td>\n",
       "      <td>142.5</td>\n",
       "      <td>0.0</td>\n",
       "      <td>228.0</td>\n",
       "      <td>0.0</td>\n",
       "      <td>932.0</td>\n",
       "      <td>594.0</td>\n",
       "      <td>270</td>\n",
       "      <td>40.27</td>\n",
       "    </tr>\n",
       "    <tr>\n",
       "      <th>3</th>\n",
       "      <td>332.5</td>\n",
       "      <td>142.5</td>\n",
       "      <td>0.0</td>\n",
       "      <td>228.0</td>\n",
       "      <td>0.0</td>\n",
       "      <td>932.0</td>\n",
       "      <td>594.0</td>\n",
       "      <td>365</td>\n",
       "      <td>41.05</td>\n",
       "    </tr>\n",
       "    <tr>\n",
       "      <th>4</th>\n",
       "      <td>198.6</td>\n",
       "      <td>132.4</td>\n",
       "      <td>0.0</td>\n",
       "      <td>192.0</td>\n",
       "      <td>0.0</td>\n",
       "      <td>978.4</td>\n",
       "      <td>825.5</td>\n",
       "      <td>360</td>\n",
       "      <td>44.30</td>\n",
       "    </tr>\n",
       "  </tbody>\n",
       "</table>\n",
       "</div>"
      ],
      "text/plain": [
       "   cement   slag  flyash  water  superplasticizer  coarseaggregate  \\\n",
       "0   540.0    0.0     0.0  162.0               2.5           1040.0   \n",
       "1   540.0    0.0     0.0  162.0               2.5           1055.0   \n",
       "2   332.5  142.5     0.0  228.0               0.0            932.0   \n",
       "3   332.5  142.5     0.0  228.0               0.0            932.0   \n",
       "4   198.6  132.4     0.0  192.0               0.0            978.4   \n",
       "\n",
       "   fineaggregate  age  csMPa  \n",
       "0          676.0   28  79.99  \n",
       "1          676.0   28  61.89  \n",
       "2          594.0  270  40.27  \n",
       "3          594.0  365  41.05  \n",
       "4          825.5  360  44.30  "
      ]
     },
     "execution_count": 2,
     "metadata": {},
     "output_type": "execute_result"
    }
   ],
   "source": [
    "concrete = pd.read_csv('dataset/Concrete_Data.csv')\n",
    "\n",
    "concrete.head()"
   ]
  },
  {
   "cell_type": "code",
   "execution_count": 3,
   "metadata": {},
   "outputs": [],
   "source": [
    "x = concrete.drop('csMPa', axis = 1)\n",
    "\n",
    "y = concrete['csMPa']"
   ]
  },
  {
   "cell_type": "code",
   "execution_count": 4,
   "metadata": {},
   "outputs": [],
   "source": [
    "from sklearn.model_selection import train_test_split\n",
    "\n",
    "x_train, x_test, y_train, y_test = train_test_split(x, y, test_size = 0.2)"
   ]
  },
  {
   "cell_type": "code",
   "execution_count": 5,
   "metadata": {},
   "outputs": [],
   "source": [
    "from sklearn.ensemble import AdaBoostRegressor\n",
    "from sklearn.tree import DecisionTreeRegressor"
   ]
  },
  {
   "cell_type": "code",
   "execution_count": 6,
   "metadata": {},
   "outputs": [
    {
     "data": {
      "text/plain": [
       "AdaBoostRegressor(base_estimator=DecisionTreeRegressor(max_depth=4),\n",
       "                  n_estimators=100)"
      ]
     },
     "execution_count": 6,
     "metadata": {},
     "output_type": "execute_result"
    }
   ],
   "source": [
    "ada_reg = AdaBoostRegressor(DecisionTreeRegressor(max_depth = 4),\n",
    "                            n_estimators = 100,\n",
    "                            learning_rate = 1.0\n",
    "                           )\n",
    "\n",
    "ada_reg.fit(x_train, y_train)"
   ]
  },
  {
   "cell_type": "code",
   "execution_count": 7,
   "metadata": {},
   "outputs": [
    {
     "data": {
      "text/plain": [
       "array([1.38937632, 1.37881153, 1.08103089, 1.44641412, 1.22996197,\n",
       "       1.17751735, 0.9828931 , 1.22915136, 1.24371427, 1.23936213,\n",
       "       1.05990884, 1.19260731, 1.16339943, 0.97216648, 1.26909244,\n",
       "       0.83724176, 1.13649532, 1.10404288, 0.90207875, 0.99265251,\n",
       "       1.08506121, 0.94325261, 1.21371205, 1.23858631, 0.88113734,\n",
       "       1.11200627, 1.14466201, 0.95759032, 1.23798714, 0.8767227 ,\n",
       "       1.21001682, 1.03657824, 1.11070085, 0.89681531, 1.02360769,\n",
       "       1.3691652 , 1.03647652, 1.04159879, 1.08604772, 1.02295861,\n",
       "       1.25136961, 1.04489779, 1.26818928, 1.12182257, 1.08688817,\n",
       "       1.24091508, 0.84319762, 1.11124477, 1.17588587, 0.93110974,\n",
       "       1.10475704, 1.45611171, 0.98376187, 1.11140834, 1.24931357,\n",
       "       1.2251598 , 0.85912433, 0.9508305 , 1.19065504, 1.09716417,\n",
       "       0.98053637, 1.09836426, 1.13546681, 0.90003503, 1.16315615,\n",
       "       1.04089957, 1.20724546, 1.52398597, 1.12477272, 0.83293988,\n",
       "       1.01841848, 1.0726015 , 0.94690759, 1.18048837, 0.82410463,\n",
       "       0.994986  , 1.03381336, 1.31036892, 1.33958129, 1.29486813,\n",
       "       1.18687178, 1.00698974, 0.99368158, 1.4049446 , 1.33304419,\n",
       "       1.00847954, 0.81634282, 0.61866329, 1.15712853, 0.98328273,\n",
       "       1.14098833, 1.04430212, 1.08055609, 1.04986684, 1.26396712,\n",
       "       0.90240891, 0.86587042, 1.19126074, 1.00057102, 0.92121908])"
      ]
     },
     "execution_count": 7,
     "metadata": {},
     "output_type": "execute_result"
    }
   ],
   "source": [
    "ada_reg.estimator_weights_"
   ]
  },
  {
   "cell_type": "code",
   "execution_count": 8,
   "metadata": {},
   "outputs": [],
   "source": [
    "y_pred = ada_reg.predict(x_test)"
   ]
  },
  {
   "cell_type": "code",
   "execution_count": 9,
   "metadata": {},
   "outputs": [
    {
     "data": {
      "text/plain": [
       "0.8345457013785915"
      ]
     },
     "execution_count": 9,
     "metadata": {},
     "output_type": "execute_result"
    }
   ],
   "source": [
    "from sklearn.metrics import r2_score\n",
    "\n",
    "r2_score(y_test, y_pred)"
   ]
  },
  {
   "cell_type": "code",
   "execution_count": 10,
   "metadata": {},
   "outputs": [
    {
     "data": {
      "text/plain": [
       "AdaBoostRegressor(base_estimator=DecisionTreeRegressor(max_depth=2),\n",
       "                  learning_rate=0.5, n_estimators=200)"
      ]
     },
     "execution_count": 10,
     "metadata": {},
     "output_type": "execute_result"
    }
   ],
   "source": [
    "ada_reg = AdaBoostRegressor(DecisionTreeRegressor(max_depth = 2),\n",
    "                            n_estimators = 200,\n",
    "                            learning_rate = 0.5\n",
    "                           )\n",
    "\n",
    "ada_reg.fit(x_train, y_train)"
   ]
  },
  {
   "cell_type": "code",
   "execution_count": 11,
   "metadata": {},
   "outputs": [
    {
     "data": {
      "text/plain": [
       "array([0.66676965, 0.58627865, 0.61278066, 0.58938745, 0.50551457,\n",
       "       0.50295774, 0.50831695, 0.45598842, 0.34540218, 0.30824154,\n",
       "       0.43801825, 0.41924817, 0.23711262, 0.45754765, 0.54468929,\n",
       "       0.39413648, 0.53516745, 0.55509725, 0.24506839, 0.39344488,\n",
       "       0.47168595, 0.39384975, 0.47797669, 0.40313675, 0.40709737,\n",
       "       0.28590273, 0.20641654, 0.47556225, 0.37763059, 0.33314783,\n",
       "       0.38269164, 0.36314461, 0.41030469, 0.38508734, 0.26909237,\n",
       "       0.51704704, 0.31011781, 0.46001204, 0.35615608, 0.50174086,\n",
       "       0.3306893 , 0.43542526, 0.36218711, 0.28603476, 0.33936499,\n",
       "       0.38234419, 0.48996342, 0.31612211, 0.35952566, 0.33291976,\n",
       "       0.37057918, 0.35404018, 0.51871409, 0.52256664, 0.5422642 ,\n",
       "       0.36139796, 0.44333668, 0.35478582, 0.4639996 , 0.39522895,\n",
       "       0.3840282 , 0.38311299, 0.54758949, 0.42167291, 0.24526138,\n",
       "       0.36529201, 0.49485957, 0.42246146, 0.31477552, 0.51872688,\n",
       "       0.40132296, 0.35397623, 0.3535477 , 0.32937168, 0.41721185,\n",
       "       0.38621366, 0.54100078, 0.36180741, 0.4353212 , 0.34944968,\n",
       "       0.4588427 , 0.37259555, 0.42559873, 0.42855887, 0.31496281,\n",
       "       0.38583703, 0.25806968, 0.40575791, 0.4604122 , 0.5018689 ,\n",
       "       0.39594979, 0.32068309, 0.42779318, 0.43074578, 0.44905388,\n",
       "       0.36016149, 0.23162236, 0.32202456, 0.29248309, 0.36139033,\n",
       "       0.25445535, 0.37091352, 0.40778475, 0.43408405, 0.40411082,\n",
       "       0.37506272, 0.29332065, 0.35545414, 0.36357602, 0.42825608,\n",
       "       0.37825535, 0.43011639, 0.33099213, 0.32695529, 0.38343902,\n",
       "       0.37077495, 0.51791847, 0.32739221, 0.34207029, 0.42867059,\n",
       "       0.3505839 , 0.46445868, 0.41366803, 0.40627921, 0.371707  ,\n",
       "       0.41949038, 0.30448371, 0.40846049, 0.30851281, 0.43673095,\n",
       "       0.27743731, 0.21304164, 0.41801182, 0.291351  , 0.40388998,\n",
       "       0.40273039, 0.19464405, 0.54393834, 0.2632348 , 0.47743072,\n",
       "       0.40354201, 0.18593949, 0.40253235, 0.4400148 , 0.31842568,\n",
       "       0.29652767, 0.40615441, 0.33327026, 0.44061437, 0.37198933,\n",
       "       0.4844301 , 0.30053685, 0.35791618, 0.28158528, 0.31503729,\n",
       "       0.36576167, 0.20280446, 0.36000816, 0.41994112, 0.18720096,\n",
       "       0.46172201, 0.38193435, 0.34885874, 0.40911891, 0.53458693,\n",
       "       0.23251479, 0.33070933, 0.49502417, 0.4683408 , 0.32523802,\n",
       "       0.36758982, 0.35835432, 0.30290506, 0.33302096, 0.46560254,\n",
       "       0.25261738, 0.41124174, 0.36394674, 0.37768991, 0.29701188,\n",
       "       0.36552054, 0.44979235, 0.2563723 , 0.38693489, 0.38999163,\n",
       "       0.38155815, 0.40610328, 0.38041965, 0.38247302, 0.24849508,\n",
       "       0.38165078, 0.43362671, 0.32961947, 0.33246013, 0.3884742 ,\n",
       "       0.37388865, 0.3132536 , 0.34612395, 0.35673859, 0.2940625 ])"
      ]
     },
     "execution_count": 11,
     "metadata": {},
     "output_type": "execute_result"
    }
   ],
   "source": [
    "ada_reg.estimator_weights_"
   ]
  },
  {
   "cell_type": "code",
   "execution_count": 12,
   "metadata": {},
   "outputs": [
    {
     "data": {
      "text/plain": [
       "0.7310890898362905"
      ]
     },
     "execution_count": 12,
     "metadata": {},
     "output_type": "execute_result"
    }
   ],
   "source": [
    "y_pred = ada_reg.predict(x_test)\n",
    "\n",
    "r2_score(y_test, y_pred)"
   ]
  },
  {
   "cell_type": "code",
   "execution_count": null,
   "metadata": {},
   "outputs": [],
   "source": []
  }
 ],
 "metadata": {
  "kernelspec": {
   "display_name": "Python 3",
   "language": "python",
   "name": "python3"
  },
  "language_info": {
   "codemirror_mode": {
    "name": "ipython",
    "version": 3
   },
   "file_extension": ".py",
   "mimetype": "text/x-python",
   "name": "python",
   "nbconvert_exporter": "python",
   "pygments_lexer": "ipython3",
   "version": "3.8.5"
  }
 },
 "nbformat": 4,
 "nbformat_minor": 4
}
